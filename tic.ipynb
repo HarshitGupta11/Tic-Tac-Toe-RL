{
 "cells": [
  {
   "cell_type": "code",
   "execution_count": 45,
   "metadata": {},
   "outputs": [],
   "source": [
    "import random\n",
    "import numpy as np\n",
    "import pandas as pd\n",
    "import matplotlib.pyplot as plt\n",
    "import seaborn as sns\n",
    "sns.set()\n",
    "import progressbar\n",
    "from random import choices"
   ]
  },
  {
   "cell_type": "code",
   "execution_count": 46,
   "metadata": {},
   "outputs": [],
   "source": [
    "states={}\n",
    "rx=-5\n",
    "ro=5\n",
    "empty=0\n",
    "startstate=\"#########\"\n",
    "player=1\n",
    "df=0.99\n",
    "alpha=0.1\n",
    "l=[]\n",
    "c=0"
   ]
  },
  {
   "cell_type": "code",
   "execution_count": 47,
   "metadata": {},
   "outputs": [],
   "source": [
    "def addkey(key,player):\n",
    "    key=key+player\n",
    "    states[key]=np.random.uniform(-0.01,0.01,9)\n",
    "    \n",
    "def checkvalidaction(key,act):\n",
    "    if key[act]=='#':\n",
    "        return 1\n",
    "    else:\n",
    "        return 0\n",
    "    \n",
    "def chooseaction(key,player):\n",
    "    if key==startstate:\n",
    "        return int(random.random()*9)\n",
    "    ch=int(random.random()*2)\n",
    "    if ch==1:\n",
    "        while(1):\n",
    "            act=int(random.random()*9)\n",
    "            if checkvalidaction(key,act):\n",
    "                return act\n",
    "    else:\n",
    "        key_t=key+player\n",
    "        x=np.argsort(states[key_t])\n",
    "        x=np.flip(x)\n",
    "        for y in x:\n",
    "            if checkvalidaction(key,y):\n",
    "                return y  \n",
    "\n",
    "def getnext(state,action,player):\n",
    "    #print(state,\" \",action,\" \",player,\"\\n\")\n",
    "    l=list(state)\n",
    "    l[int(action)]=player\n",
    "    state=''.join(l)\n",
    "    return state\n",
    "\n",
    "def getwinner(state):\n",
    "    l=list(state)\n",
    "    temp=[['#' for i in range(3)] for j in range(3)]\n",
    "    for i in range(3):\n",
    "        for j in range(3):\n",
    "            temp[i][j]=l[i*3+j]\n",
    "            #print(temp)\n",
    "    for i in range(3):\n",
    "        if temp[i][0]==temp[i][1] and temp[i][1]==temp[i][2] and temp[i][2]!='#':\n",
    "            return temp[i][0]\n",
    "        if temp[0][i]==temp[1][i] and temp[1][i]==temp[2][i] and temp[0][i]!='#':\n",
    "            return temp[0][i]\n",
    "        \n",
    "    if temp[0][0]==temp[1][1] and temp[1][1]==temp[2][2] and temp[1][1]!='#':\n",
    "        return temp[0][0];\n",
    "    else: \n",
    "        if temp[0][2]==temp[1][1] and temp[2][0]==temp[1][1] and temp[2][0]!='#':\n",
    "            return temp[2][0]\n",
    "    return 0\n",
    "\n",
    "def getreward(state):\n",
    "    winner=getwinner(state)\n",
    "    if winner=='X':\n",
    "        return 20\n",
    "    if winner=='O':\n",
    "        return -20\n",
    "    return 0\n",
    "\n",
    "def gameover(state):\n",
    "    if '#' not in state:\n",
    "        return 1\n",
    "    if getwinner(state)!=0:\n",
    "        return 1\n",
    "    return 0\n",
    "\n",
    "def gameoverlast(state):\n",
    "    if '#' not in state:\n",
    "        return 1\n",
    "    return 0\n",
    " \n",
    "def switchplayers(pl):\n",
    "    if pl=='X':\n",
    "        return 'O'\n",
    "    else :\n",
    "        return 'X'\n",
    "    \n",
    "def updateqvalues(state,act,ns,rw,pl):\n",
    "    ex=0\n",
    "    if gameoverlast(ns):\n",
    "        ex=rw\n",
    "    else :\n",
    "        if pl=='X':\n",
    "            ex=rw+(df*np.amin(states[ns+switchplayers(pl)]))\n",
    "            #print(ex)\n",
    "        else :\n",
    "            ex=rw+(df*np.amax(states[ns+switchplayers(pl)]))\n",
    "    state=state+pl\n",
    "    #if alpha*(ex-states[state][act])>0.1 and alpha*(ex-states[state][act])<1:\n",
    "        #print(alpha*(ex-states[state][act]))\n",
    "    states[state][act]=states[state][act]+alpha*(ex-states[state][act])\n",
    "    \n"
   ]
  },
  {
   "cell_type": "code",
   "execution_count": 48,
   "metadata": {},
   "outputs": [],
   "source": [
    "def qlearn(c,maxgames):\n",
    "    games=0\n",
    "    player='X'\n",
    "    playerop='O'\n",
    "    player=int(random.random()*2)\n",
    "    if player==1:\n",
    "        player='X'\n",
    "    else :\n",
    "        player='O'\n",
    "    for i in progressbar.progressbar(range(maxgames)):\n",
    "        key=startstate\n",
    "        cplayer=player\n",
    "        while(23):\n",
    "            #print(key,\"\\n\")\n",
    "            \n",
    "            if key+player not in states:\n",
    "                addkey(key,player)\n",
    "            action=chooseaction(key,player)\n",
    "            nextstate=getnext(key,action,player)\n",
    "            if nextstate+switchplayers(player)==\"O###O#X#XO\":\n",
    "                c+=1\n",
    "            reward=getreward(nextstate)\n",
    "            if nextstate+switchplayers(player) not in states:\n",
    "                addkey(nextstate,switchplayers(player))\n",
    "            updateqvalues(key,action,nextstate,reward,player)\n",
    "            if gameover(nextstate)==1:\n",
    "                player=switchplayers(cplayer)\n",
    "                break\n",
    "            else :\n",
    "                key=nextstate\n",
    "                player=switchplayers(player)\n",
    "    return c\n",
    "                        "
   ]
  },
  {
   "cell_type": "code",
   "execution_count": 49,
   "metadata": {},
   "outputs": [
    {
     "name": "stderr",
     "output_type": "stream",
     "text": [
      " 45% (1371617 of 3000000) |######        | Elapsed Time: 0:04:47 ETA:   0:05:56"
     ]
    },
    {
     "ename": "KeyboardInterrupt",
     "evalue": "",
     "output_type": "error",
     "traceback": [
      "\u001b[1;31m---------------------------------------------------------------------------\u001b[0m",
      "\u001b[1;31mKeyboardInterrupt\u001b[0m                         Traceback (most recent call last)",
      "\u001b[1;32m<ipython-input-49-3c5182f2b61d>\u001b[0m in \u001b[0;36m<module>\u001b[1;34m()\u001b[0m\n\u001b[0;32m      1\u001b[0m \u001b[0mc\u001b[0m\u001b[1;33m=\u001b[0m\u001b[1;36m0\u001b[0m\u001b[1;33m\u001b[0m\u001b[0m\n\u001b[0;32m      2\u001b[0m \u001b[0mstates\u001b[0m\u001b[1;33m=\u001b[0m\u001b[1;33m{\u001b[0m\u001b[1;33m}\u001b[0m\u001b[1;33m\u001b[0m\u001b[0m\n\u001b[1;32m----> 3\u001b[1;33m \u001b[0mc\u001b[0m\u001b[1;33m=\u001b[0m\u001b[0mqlearn\u001b[0m\u001b[1;33m(\u001b[0m\u001b[0mc\u001b[0m\u001b[1;33m,\u001b[0m\u001b[1;36m6\u001b[0m\u001b[1;33m*\u001b[0m\u001b[1;36m500000\u001b[0m\u001b[1;33m)\u001b[0m\u001b[1;33m\u001b[0m\u001b[0m\n\u001b[0m\u001b[0;32m      4\u001b[0m \u001b[0mprint\u001b[0m\u001b[1;33m(\u001b[0m\u001b[0mc\u001b[0m\u001b[1;33m)\u001b[0m\u001b[1;33m\u001b[0m\u001b[0m\n",
      "\u001b[1;32m<ipython-input-48-b143861d1a18>\u001b[0m in \u001b[0;36mqlearn\u001b[1;34m(c, maxgames)\u001b[0m\n\u001b[0;32m     23\u001b[0m             \u001b[1;32mif\u001b[0m \u001b[0mnextstate\u001b[0m\u001b[1;33m+\u001b[0m\u001b[0mswitchplayers\u001b[0m\u001b[1;33m(\u001b[0m\u001b[0mplayer\u001b[0m\u001b[1;33m)\u001b[0m \u001b[1;32mnot\u001b[0m \u001b[1;32min\u001b[0m \u001b[0mstates\u001b[0m\u001b[1;33m:\u001b[0m\u001b[1;33m\u001b[0m\u001b[0m\n\u001b[0;32m     24\u001b[0m                 \u001b[0maddkey\u001b[0m\u001b[1;33m(\u001b[0m\u001b[0mnextstate\u001b[0m\u001b[1;33m,\u001b[0m\u001b[0mswitchplayers\u001b[0m\u001b[1;33m(\u001b[0m\u001b[0mplayer\u001b[0m\u001b[1;33m)\u001b[0m\u001b[1;33m)\u001b[0m\u001b[1;33m\u001b[0m\u001b[0m\n\u001b[1;32m---> 25\u001b[1;33m             \u001b[0mupdateqvalues\u001b[0m\u001b[1;33m(\u001b[0m\u001b[0mkey\u001b[0m\u001b[1;33m,\u001b[0m\u001b[0maction\u001b[0m\u001b[1;33m,\u001b[0m\u001b[0mnextstate\u001b[0m\u001b[1;33m,\u001b[0m\u001b[0mreward\u001b[0m\u001b[1;33m,\u001b[0m\u001b[0mplayer\u001b[0m\u001b[1;33m)\u001b[0m\u001b[1;33m\u001b[0m\u001b[0m\n\u001b[0m\u001b[0;32m     26\u001b[0m             \u001b[1;32mif\u001b[0m \u001b[0mgameover\u001b[0m\u001b[1;33m(\u001b[0m\u001b[0mnextstate\u001b[0m\u001b[1;33m)\u001b[0m\u001b[1;33m==\u001b[0m\u001b[1;36m1\u001b[0m\u001b[1;33m:\u001b[0m\u001b[1;33m\u001b[0m\u001b[0m\n\u001b[0;32m     27\u001b[0m                 \u001b[0mplayer\u001b[0m\u001b[1;33m=\u001b[0m\u001b[0mswitchplayers\u001b[0m\u001b[1;33m(\u001b[0m\u001b[0mcplayer\u001b[0m\u001b[1;33m)\u001b[0m\u001b[1;33m\u001b[0m\u001b[0m\n",
      "\u001b[1;32m<ipython-input-47-26c78fc618b3>\u001b[0m in \u001b[0;36mupdateqvalues\u001b[1;34m(state, act, ns, rw, pl)\u001b[0m\n\u001b[0;32m     85\u001b[0m     \u001b[1;32melse\u001b[0m \u001b[1;33m:\u001b[0m\u001b[1;33m\u001b[0m\u001b[0m\n\u001b[0;32m     86\u001b[0m         \u001b[1;32mif\u001b[0m \u001b[0mpl\u001b[0m\u001b[1;33m==\u001b[0m\u001b[1;34m'X'\u001b[0m\u001b[1;33m:\u001b[0m\u001b[1;33m\u001b[0m\u001b[0m\n\u001b[1;32m---> 87\u001b[1;33m             \u001b[0mex\u001b[0m\u001b[1;33m=\u001b[0m\u001b[0mrw\u001b[0m\u001b[1;33m+\u001b[0m\u001b[1;33m(\u001b[0m\u001b[0mdf\u001b[0m\u001b[1;33m*\u001b[0m\u001b[0mnp\u001b[0m\u001b[1;33m.\u001b[0m\u001b[0mamin\u001b[0m\u001b[1;33m(\u001b[0m\u001b[0mstates\u001b[0m\u001b[1;33m[\u001b[0m\u001b[0mns\u001b[0m\u001b[1;33m+\u001b[0m\u001b[0mswitchplayers\u001b[0m\u001b[1;33m(\u001b[0m\u001b[0mpl\u001b[0m\u001b[1;33m)\u001b[0m\u001b[1;33m]\u001b[0m\u001b[1;33m)\u001b[0m\u001b[1;33m)\u001b[0m\u001b[1;33m\u001b[0m\u001b[0m\n\u001b[0m\u001b[0;32m     88\u001b[0m             \u001b[1;31m#print(ex)\u001b[0m\u001b[1;33m\u001b[0m\u001b[1;33m\u001b[0m\u001b[0m\n\u001b[0;32m     89\u001b[0m         \u001b[1;32melse\u001b[0m \u001b[1;33m:\u001b[0m\u001b[1;33m\u001b[0m\u001b[0m\n",
      "\u001b[1;32mc:\\program files\\python36\\lib\\site-packages\\numpy\\core\\fromnumeric.py\u001b[0m in \u001b[0;36mamin\u001b[1;34m(a, axis, out, keepdims, initial)\u001b[0m\n\u001b[0;32m   2440\u001b[0m     \"\"\"\n\u001b[0;32m   2441\u001b[0m     return _wrapreduction(a, np.minimum, 'min', axis, None, out, keepdims=keepdims,\n\u001b[1;32m-> 2442\u001b[1;33m                           initial=initial)\n\u001b[0m\u001b[0;32m   2443\u001b[0m \u001b[1;33m\u001b[0m\u001b[0m\n\u001b[0;32m   2444\u001b[0m \u001b[1;33m\u001b[0m\u001b[0m\n",
      "\u001b[1;32mc:\\program files\\python36\\lib\\site-packages\\numpy\\core\\fromnumeric.py\u001b[0m in \u001b[0;36m_wrapreduction\u001b[1;34m(obj, ufunc, method, axis, dtype, out, **kwargs)\u001b[0m\n\u001b[0;32m     81\u001b[0m                 \u001b[1;32mreturn\u001b[0m \u001b[0mreduction\u001b[0m\u001b[1;33m(\u001b[0m\u001b[0maxis\u001b[0m\u001b[1;33m=\u001b[0m\u001b[0maxis\u001b[0m\u001b[1;33m,\u001b[0m \u001b[0mout\u001b[0m\u001b[1;33m=\u001b[0m\u001b[0mout\u001b[0m\u001b[1;33m,\u001b[0m \u001b[1;33m**\u001b[0m\u001b[0mpasskwargs\u001b[0m\u001b[1;33m)\u001b[0m\u001b[1;33m\u001b[0m\u001b[0m\n\u001b[0;32m     82\u001b[0m \u001b[1;33m\u001b[0m\u001b[0m\n\u001b[1;32m---> 83\u001b[1;33m     \u001b[1;32mreturn\u001b[0m \u001b[0mufunc\u001b[0m\u001b[1;33m.\u001b[0m\u001b[0mreduce\u001b[0m\u001b[1;33m(\u001b[0m\u001b[0mobj\u001b[0m\u001b[1;33m,\u001b[0m \u001b[0maxis\u001b[0m\u001b[1;33m,\u001b[0m \u001b[0mdtype\u001b[0m\u001b[1;33m,\u001b[0m \u001b[0mout\u001b[0m\u001b[1;33m,\u001b[0m \u001b[1;33m**\u001b[0m\u001b[0mpasskwargs\u001b[0m\u001b[1;33m)\u001b[0m\u001b[1;33m\u001b[0m\u001b[0m\n\u001b[0m\u001b[0;32m     84\u001b[0m \u001b[1;33m\u001b[0m\u001b[0m\n\u001b[0;32m     85\u001b[0m \u001b[1;33m\u001b[0m\u001b[0m\n",
      "\u001b[1;31mKeyboardInterrupt\u001b[0m: "
     ]
    }
   ],
   "source": [
    "c=0\n",
    "states={}\n",
    "c=qlearn(c,6*500000)\n",
    "print(c)"
   ]
  },
  {
   "cell_type": "code",
   "execution_count": 50,
   "metadata": {},
   "outputs": [
    {
     "name": "stdout",
     "output_type": "stream",
     "text": [
      "10956\n"
     ]
    }
   ],
   "source": [
    "print(len(states))"
   ]
  },
  {
   "cell_type": "markdown",
   "metadata": {},
   "source": [
    "import pickle\n",
    "with open(\"dataqp.pkl\",\"wb\") as f:\n",
    "    pickle.dump(states,f)"
   ]
  },
  {
   "cell_type": "code",
   "execution_count": 51,
   "metadata": {},
   "outputs": [],
   "source": [
    "def getactfromuser(state):\n",
    "    while(1):\n",
    "        y=int(input(\"ROW\"))\n",
    "        x=int(input(\"COLUMN\"))\n",
    "        if checkvalidaction(state,(y-1)*3+(x-1)):\n",
    "            state=getnext(state,(y-1)*3+(x-1),'O')\n",
    "            return state"
   ]
  },
  {
   "cell_type": "code",
   "execution_count": 52,
   "metadata": {},
   "outputs": [],
   "source": [
    "def getactfromcomp(state):\n",
    "    x=np.argsort(states[state+'X'])\n",
    "    x=np.flip(x)\n",
    "    for y in x:\n",
    "        if checkvalidaction(state,y):\n",
    "            state=getnext(state,y,'X')\n",
    "            return state"
   ]
  },
  {
   "cell_type": "code",
   "execution_count": 53,
   "metadata": {},
   "outputs": [],
   "source": [
    "def printboard(state):\n",
    "    l=list(state)\n",
    "    for i in range(3):\n",
    "        for j in range(3):\n",
    "            print(l[i*3+j],\" \",end='')\n",
    "        print(\"\\n\")\n"
   ]
  },
  {
   "cell_type": "code",
   "execution_count": 54,
   "metadata": {},
   "outputs": [],
   "source": [
    "import os\n",
    "from IPython.display import clear_output\n",
    "def gameplay():\n",
    "    state=startstate\n",
    "    for i in range(5):\n",
    "        state=getactfromuser(state)\n",
    "        clear_output()\n",
    "        printboard(state)\n",
    "        print(states[state+'X'])\n",
    "        if getwinner(state)=='O':\n",
    "            print(\"You Win\\n\")\n",
    "            return 1\n",
    "        if gameover(state):\n",
    "            return 1\n",
    "        state=getactfromcomp(state)\n",
    "        #clear_output()\n",
    "        printboard(state)\n",
    "        print(states[state+'O'])\n",
    "        if getwinner(state)=='X':\n",
    "            print(\"Computer wins\\n\")\n",
    "            return 1\n",
    "        "
   ]
  },
  {
   "cell_type": "code",
   "execution_count": null,
   "metadata": {},
   "outputs": [],
   "source": [
    "gameplay()"
   ]
  },
  {
   "cell_type": "code",
   "execution_count": 41,
   "metadata": {},
   "outputs": [],
   "source": [
    "import pickle\n",
    "with open(\"dataqp.pkl\",\"wb\")as f:\n",
    "    pickle.dump(states,f)"
   ]
  }
 ],
 "metadata": {
  "kernelspec": {
   "display_name": "Python 3",
   "language": "python",
   "name": "python3"
  },
  "language_info": {
   "codemirror_mode": {
    "name": "ipython",
    "version": 3
   },
   "file_extension": ".py",
   "mimetype": "text/x-python",
   "name": "python",
   "nbconvert_exporter": "python",
   "pygments_lexer": "ipython3",
   "version": "3.6.5rc1"
  }
 },
 "nbformat": 4,
 "nbformat_minor": 2
}
